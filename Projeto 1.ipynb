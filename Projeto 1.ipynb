{
 "cells": [
  {
   "cell_type": "markdown",
   "metadata": {},
   "source": [
    "## ___\n",
    "# Ciência dos Dados - PROJETO 1"
   ]
  },
  {
   "cell_type": "markdown",
   "metadata": {},
   "source": [
    "Pedro Fonseca"
   ]
  },
  {
   "cell_type": "markdown",
   "metadata": {},
   "source": [
    "## TÍTULO DO SEU PROJETO"
   ]
  },
  {
   "cell_type": "markdown",
   "metadata": {},
   "source": [
    "___\n",
    "## Introdução\n",
    "\n",
    "Descreva aqui o que pretende analisar!\n",
    "\n",
    "Objetivo: Comparar a posse de TV e internet de diferentes faizas de renda na região sudeste, analisando principalmente como a forma de acesso a essas duas técnologias mudou ao longo dos anos\n",
    "\n",
    "Capriche no português!! \n",
    "Se quiser pode utilizar pesquisas semelhantes publicadas em sites confiáveis!!\n"
   ]
  },
  {
   "cell_type": "markdown",
   "metadata": {},
   "source": [
    "___\n",
    "## Análise e Resultados"
   ]
  },
  {
   "cell_type": "code",
   "execution_count": 1,
   "metadata": {
    "collapsed": true
   },
   "outputs": [],
   "source": [
    "%matplotlib inline\n",
    "import pandas as pd\n",
    "import matplotlib.pyplot as plt\n",
    "import numpy as np\n",
    "import os"
   ]
  },
  {
   "cell_type": "code",
   "execution_count": 2,
   "metadata": {},
   "outputs": [
    {
     "name": "stdout",
     "output_type": "stream",
     "text": [
      "Esperamos trabalhar no diretório\n",
      "C:\\Users\\pedro\\OneDrive\\Insper - Semestre 2\\Ciência de Dados\n"
     ]
    }
   ],
   "source": [
    "print('Esperamos trabalhar no diretório')\n",
    "print(os.getcwd())"
   ]
  },
  {
   "cell_type": "code",
   "execution_count": 3,
   "metadata": {
    "collapsed": true
   },
   "outputs": [],
   "source": [
    "#Se usar o arquivo descompactado\n",
    "dados=pd.read_csv('DOM2015.csv',sep=',')\n",
    "\n",
    "#Se usar o arquivo compactado como está no dropbox púbico\n",
    "#pd.read_csv('DOM2015csv.zip', compression='zip', header=0, sep=',', quotechar='\"')"
   ]
  },
  {
   "cell_type": "code",
   "execution_count": 4,
   "metadata": {
    "collapsed": true
   },
   "outputs": [],
   "source": [
    "dados.loc[(dados.UF>30)&(dados.UF<36),\"REGIAO\"]=\"Sudeste\"\n",
    "dados.loc[(dados.UF>40)&(dados.UF>44),\"REGIAO\"]=\"Sul\"\n",
    "dados.loc[(dados.V4105<4),\"URBANIZACAO\"]=\"Urbana\"\n",
    "dados.loc[(dados.V4105>3),\"URBANIZACAO\"]=\"Rural\""
   ]
  },
  {
   "cell_type": "code",
   "execution_count": 5,
   "metadata": {
    "collapsed": true
   },
   "outputs": [],
   "source": [
    "dados.REGIAO=dados.REGIAO.astype('category')\n",
    "dados.V4622=dados.V4622.astype('category')#renda\n",
    "dados.V4622.cat.categories=('Sem Rendimento','até 0,25 SM','de 0,25 a 0,5 SM','de 0,5 a 1 SM','de 1 a 2 SM','de 2 a 3 SM','de 3 a 5 SM','mais que 5 SM','Não Disponível')\n",
    "dados.V4105=dados.V4105.astype('category')#urbano/rural\n",
    "dados.V0226=dados.V0226.astype('category')#tv em cores\n",
    "dados.V0226.cat.categories=('Sim','Não')\n",
    "dados.V02272=dados.V02272.astype('category')#tv por assinatura\n",
    "dados.V02272.cat.categories=('Sim','Não')\n",
    "dados.V02273=dados.V02273.astype('category')#tv aberta digital\n",
    "dados.V02273.cat.categories=('Sim','Não','Não sabe')\n",
    "dados.V02274=dados.V02274.astype('category')#tv por parabólica\n",
    "dados.V02274.cat.categories=('Sim','Não','Não sabe')\n",
    "dados.V2322=dados.V02322.astype('category')#acessoa a internet no domicilio\n",
    "dados.V2322.cat.categories=('Sim','Não')\n",
    "dados.V02424=dados.V02424.astype('category')#acesso via 3G e 4G\n",
    "dados.V02424.cat.categories=('Sim','Não')\n",
    "dados.V02425=dados.V02425.astype('category')#discada ou linha telefonica\n",
    "dados.V02425.cat.categories=('Sim','Não')\n",
    "dados.V02426=dados.V02426.astype('category')#acesso por banda larga\n",
    "dados.V02426.cat.categories=('Sim','Não')"
   ]
  },
  {
   "cell_type": "code",
   "execution_count": 6,
   "metadata": {
    "collapsed": true
   },
   "outputs": [],
   "source": [
    "dados=dados.loc[:,[\"REGIAO\",\"URBANIZACAO\",\"V4622\",\"V0226\",\"V02272\",\"V02273\",\"V02274\",\"V02424\",\"V02425\",\"V02426\"]]\n",
    "dados.columns=[\"REGIAO\",'URBANIZACAO','RENDA','TV COM COR','TV POR ASSINATURA','TV ABERTA DIGITAL','TV POR PARABÓLICA','INTERNET POR 3G/4G','INTERNET DISCADA','INTERNET POR BL']\n",
    "dados=dados[(dados.REGIAO==\"Sudeste\")]\n",
    "#dados=dados[(dados.URBANIZACAO==\"Rural\")] \n",
    "dados=dados[(dados.URBANIZACAO==\"Urbana\")]\n",
    "dados=dados.dropna(subset=['TV COM COR'])"
   ]
  },
  {
   "cell_type": "code",
   "execution_count": 7,
   "metadata": {
    "collapsed": true
   },
   "outputs": [],
   "source": [
    "writer = pd.ExcelWriter('pandas_simple.xlsx', engine='xlsxwriter')\n",
    "dados.to_excel(writer, sheet_name='Projeto1')\n",
    "writer.save()"
   ]
  },
  {
   "cell_type": "markdown",
   "metadata": {},
   "source": [
    "___\n",
    "## Conclusão "
   ]
  },
  {
   "cell_type": "markdown",
   "metadata": {
    "collapsed": true
   },
   "source": [
    "Descreva aqui suas conclusões!"
   ]
  },
  {
   "cell_type": "code",
   "execution_count": null,
   "metadata": {
    "collapsed": true
   },
   "outputs": [],
   "source": []
  }
 ],
 "metadata": {
  "anaconda-cloud": {},
  "kernelspec": {
   "display_name": "Python 3",
   "language": "python",
   "name": "python3"
  },
  "language_info": {
   "codemirror_mode": {
    "name": "ipython",
    "version": 3
   },
   "file_extension": ".py",
   "mimetype": "text/x-python",
   "name": "python",
   "nbconvert_exporter": "python",
   "pygments_lexer": "ipython3",
   "version": "3.6.1"
  }
 },
 "nbformat": 4,
 "nbformat_minor": 1
}
